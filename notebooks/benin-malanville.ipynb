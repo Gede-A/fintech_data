{
 "cells": [
  {
   "cell_type": "code",
   "execution_count": null,
   "id": "1bc99062-c2f2-4b6e-a7f9-5d766d892df4",
   "metadata": {},
   "outputs": [],
   "source": [
    "!pip install pandas\n"
   ]
  },
  {
   "cell_type": "code",
   "execution_count": null,
   "id": "0bc153ca-7041-4451-8781-70a47a977b53",
   "metadata": {},
   "outputs": [],
   "source": [
    "import pandas as pd\n",
    "df = pd.DataFrame('data/togo-dapaong_qc.csv')\n",
    "print(df.head())"
   ]
  },
  {
   "cell_type": "code",
   "execution_count": null,
   "id": "41e3d9bc-ec26-419e-a729-9fb99c148c5e",
   "metadata": {},
   "outputs": [],
   "source": [
    "import pandas as pd\n",
    "import numpy as np\n",
    "\n",
    "# Define a function to calculate Z-Scores\n",
    "def calculate_z_scores(df):\n",
    "    z_scores = (df - df.mean()) / df.std()\n",
    "    return z_scores\n",
    "\n",
    "def flag_significant_points(df, threshold=3):\n",
    "    z_scores = calculate_z_scores(df)\n",
    "    significant_flags = np.abs(z_scores) > threshold\n",
    "    return significant_flags\n",
    "for df in [df1, df2, df3]:\n",
    "    print(\"Data Frame:\")\n",
    "    print(df.head())  \n",
    "    print(\"\\nZ-Scores:\")\n",
    "    print(calculate_z_scores(df).head())\n",
    "    print(\"\\nSignificant Points:\")\n",
    "    print(flag_significant_points(df).head())\n",
    "    print(\"\\n---\\n\")\n"
   ]
  },
  {
   "cell_type": "code",
   "execution_count": null,
   "id": "e203ae0c-3e5c-4e38-a537-88ff79130041",
   "metadata": {},
   "outputs": [],
   "source": []
  }
 ],
 "metadata": {
  "kernelspec": {
   "display_name": "Python 3 (ipykernel)",
   "language": "python",
   "name": "python3"
  },
  "language_info": {
   "codemirror_mode": {
    "name": "ipython",
    "version": 3
   },
   "file_extension": ".py",
   "mimetype": "text/x-python",
   "name": "python",
   "nbconvert_exporter": "python",
   "pygments_lexer": "ipython3",
   "version": "3.12.4"
  }
 },
 "nbformat": 4,
 "nbformat_minor": 5
}
